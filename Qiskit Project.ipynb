{
 "cells": [
  {
   "cell_type": "markdown",
   "metadata": {},
   "source": [
    "# Qiskit Mini-Projects and Libraries"
   ]
  },
  {
   "cell_type": "code",
   "execution_count": 7,
   "metadata": {},
   "outputs": [
    {
     "data": {
      "text/plain": [
       "\"\\n1. Grover's Search: find a secret item in a list\\n2. QAOA Optimization: Solve MaxCut/simple scheduling problem\\n3. Quantum-Enhanced Machine Learning: using hybrid classification\\n4. Real Molecule Energy Estimation: using VQE\\n\""
      ]
     },
     "execution_count": 7,
     "metadata": {},
     "output_type": "execute_result"
    }
   ],
   "source": [
    "# Classical Tools\n",
    "\"\"\"\n",
    "python libraries:\n",
    "    numpy ----------------> math, matrices\n",
    "    matplotlib/pyplot ----> visualization\n",
    "    pandas ---------------> data handling\n",
    "    scipy.optimize -------> for QAOA/VQE\n",
    "\n",
    "    qiskit add-ons:\n",
    "    qiskit.algorithms ----> VQE, QAOA, Grover, ...\n",
    "    qiskit_nature --------> chemistry\n",
    "    qiskit_optimization --> TSP, MaxCut, ...\n",
    "\"\"\"\n",
    "\n",
    "# Mini-Projects\n",
    "\"\"\"\n",
    "1. Grover's Search: find a secret item in a list\n",
    "2. QAOA Optimization: Solve MaxCut/simple scheduling problem\n",
    "3. Quantum-Enhanced Machine Learning: using hybrid classification\n",
    "4. Real Molecule Energy Estimation: using VQE\n",
    "\"\"\""
   ]
  },
  {
   "cell_type": "markdown",
   "metadata": {},
   "source": [
    "# 1. Grover's Search:"
   ]
  },
  {
   "cell_type": "code",
   "execution_count": 8,
   "metadata": {},
   "outputs": [],
   "source": [
    "# Goal: Find a secret 2-bit password using Grover's algorithm\n",
    "\"\"\"\n",
    "- Create quantum oracle that marks secret bitstring --> Secret Password = '11'\n",
    "- Apply Grover's amplification to boost probability\n",
    "- Measure & retrieve password\n",
    "- Plot histogram of measurements\n",
    "\"\"\"\n",
    "\n",
    "from qiskit import QuantumCircuit, transpile\n",
    "from qiskit_aer import Aer #new way of doing \"from qiskit import Aer\"\n",
    "\n",
    "#define password:\n",
    "target = '11' #secret password\n",
    "\n",
    "#construct the oracle:\n",
    "def password_oracle(circuit, target_bits): #oracle --> flips phase of (the correct answer) target state\n",
    "    if target_bits == '00': #case 1\n",
    "        circuit.z([0, 1])\n",
    "        circuit.cz(0, 1)\n",
    "        circuit.z([0, 1])\n",
    "    elif target_bits == '01': #case 2\n",
    "        circuit.x(0)\n",
    "        circuit.cz(0, 1)\n",
    "        circuit.x(0)\n",
    "    elif target_bits == '10': #case 3\n",
    "        circuit.x(1)\n",
    "        circuit.cz(0, 1)\n",
    "        circuit.x(1)\n",
    "    elif target_bits == '11': #case 4\n",
    "        circuit.cz(0, 1)\n",
    "\n",
    "#Grover diffusion:\n",
    "def diffuser(circuit): #grover diffusion operator: amplifies probability of target states & reduces others\n",
    "    circuit.h([0, 1])\n",
    "    circuit.x([0, 1])\n",
    "    circuit.h(1)\n",
    "    circuit.cx(0, 1)\n",
    "    circuit.h(1)\n",
    "    circuit.x([0, 1])\n",
    "    circuit.h([0, 1])"
   ]
  },
  {
   "cell_type": "code",
   "execution_count": 9,
   "metadata": {},
   "outputs": [
    {
     "data": {
      "text/plain": [
       "<qiskit.circuit.instructionset.InstructionSet at 0x107fe0760>"
      ]
     },
     "execution_count": 9,
     "metadata": {},
     "output_type": "execute_result"
    }
   ],
   "source": [
    "#build Grover circuit:\n",
    "qc = QuantumCircuit(2, 2)\n",
    "qc.h([0, 1])\n",
    "\n",
    "#apply the oracle and diffuser:\n",
    "password_oracle(qc, target)\n",
    "diffuser(qc)\n",
    "\n",
    "#measure output:\n",
    "qc.measure([0, 1], [0, 1])"
   ]
  },
  {
   "cell_type": "code",
   "execution_count": 10,
   "metadata": {},
   "outputs": [
    {
     "name": "stdout",
     "output_type": "stream",
     "text": [
      "Cracked Password: 11\n"
     ]
    }
   ],
   "source": [
    "#simulate the circuit (this method uses Qiskit's built-in Aer simulator, as oposed to using cloud/IBM quantum hardware):\n",
    "simulator = Aer.get_backend('aer_simulator') #uses AerSimulator as circuit backend\n",
    "compiled = transpile(qc, simulator) #transpiles circuit\n",
    "job = simulator.run(compiled, shots = 1024) #new way instead of 'execute(compiled, backend = simulator, shots = 1024)\n",
    "\n",
    "result = job.result()\n",
    "counts = result.get_counts()\n",
    "\n",
    "#output most probable results:\n",
    "most_likely = max(counts, key = counts.get)\n",
    "print(\"Cracked Password:\", most_likely)"
   ]
  },
  {
   "cell_type": "code",
   "execution_count": 11,
   "metadata": {},
   "outputs": [
    {
     "ename": "SyntaxError",
     "evalue": "invalid syntax (370570100.py, line 5)",
     "output_type": "error",
     "traceback": [
      "  \u001b[36mCell\u001b[39m\u001b[36m \u001b[39m\u001b[32mIn[11]\u001b[39m\u001b[32m, line 5\u001b[39m\n\u001b[31m    \u001b[39m\u001b[31mqc =\u001b[39m\n         ^\n\u001b[31mSyntaxError\u001b[39m\u001b[31m:\u001b[39m invalid syntax\n"
     ]
    }
   ],
   "source": [
    "#Practice:\n",
    "\n",
    "from qiskit import QuantumCircuit\n",
    "\n",
    "qc = "
   ]
  },
  {
   "cell_type": "markdown",
   "metadata": {},
   "source": [
    "# 2. Quantum Approximate Optimization Algorithm (QAOA) Optimization: "
   ]
  },
  {
   "cell_type": "code",
   "execution_count": null,
   "metadata": {},
   "outputs": [
    {
     "ename": "ModuleNotFoundError",
     "evalue": "No module named 'qiskit_optimization'",
     "output_type": "error",
     "traceback": [
      "\u001b[31m---------------------------------------------------------------------------\u001b[39m",
      "\u001b[31mModuleNotFoundError\u001b[39m                       Traceback (most recent call last)",
      "\u001b[36mCell\u001b[39m\u001b[36m \u001b[39m\u001b[32mIn[20]\u001b[39m\u001b[32m, line 13\u001b[39m\n\u001b[32m      3\u001b[39m \u001b[33;03m\"\"\"\u001b[39;00m\n\u001b[32m      4\u001b[39m \u001b[33;03m- Given a graph where each edge has a cost --> divide graph's nodes into 2 groups so\u001b[39;00m\n\u001b[32m      5\u001b[39m \u001b[33;03m# of cut edges (diagonals) is maximized (combinatorial optimization --> QAOA tackles this)\u001b[39;00m\n\u001b[32m   (...)\u001b[39m\u001b[32m      9\u001b[39m \u001b[33;03m- Visualize results\u001b[39;00m\n\u001b[32m     10\u001b[39m \u001b[33;03m\"\"\"\u001b[39;00m\n\u001b[32m     12\u001b[39m \u001b[38;5;28;01mimport\u001b[39;00m\u001b[38;5;250m \u001b[39m\u001b[34;01mnetworkx\u001b[39;00m\u001b[38;5;250m \u001b[39m\u001b[38;5;28;01mas\u001b[39;00m\u001b[38;5;250m \u001b[39m\u001b[34;01mnx\u001b[39;00m \u001b[38;5;66;03m#creates graphs\u001b[39;00m\n\u001b[32m---> \u001b[39m\u001b[32m13\u001b[39m \u001b[38;5;28;01mfrom\u001b[39;00m\u001b[38;5;250m \u001b[39m\u001b[34;01mqiskit_optimization\u001b[39;00m\u001b[34;01m.\u001b[39;00m\u001b[34;01mapplications\u001b[39;00m\u001b[38;5;250m \u001b[39m\u001b[38;5;28;01mimport\u001b[39;00m MaxCut\n\u001b[32m     14\u001b[39m \u001b[38;5;28;01mfrom\u001b[39;00m\u001b[38;5;250m \u001b[39m\u001b[34;01mqiskit_optimization\u001b[39;00m\u001b[34;01m.\u001b[39;00m\u001b[34;01mconverters\u001b[39;00m\u001b[38;5;250m \u001b[39m\u001b[38;5;28;01mimport\u001b[39;00m QuadraticProgramToQubo\n\u001b[32m     15\u001b[39m \u001b[38;5;28;01mfrom\u001b[39;00m\u001b[38;5;250m \u001b[39m\u001b[34;01mqiskit_optimization\u001b[39;00m\u001b[38;5;250m \u001b[39m\u001b[38;5;28;01mimport\u001b[39;00m QuadraticProgram\n",
      "\u001b[31mModuleNotFoundError\u001b[39m: No module named 'qiskit_optimization'"
     ]
    }
   ],
   "source": [
    "# Goal: Solve MaxCut or a simple scheduling problem\n",
    "\n",
    "\"\"\"\n",
    "- Given a graph where each edge has a cost --> divide graph's nodes into 2 groups so\n",
    "# of cut edges (diagonals) is maximized (combinatorial optimization --> QAOA tackles this)\n",
    "- Create graph with NetworkX\n",
    "- Use Qiskit's QAOA tool\n",
    "- Use classical optimizer to tweak quantum circuit parameters\n",
    "- Visualize results\n",
    "\"\"\"\n",
    "\n",
    "import networkx as nx #creates graphs\n",
    "from qiskit_optimization.applications import MaxCut\n",
    "from qiskit_optimization.converters import QuadraticProgramToQubo\n",
    "from qiskit_optimization import QuadraticProgram\n",
    "import matplotlib.pyplot as plt\n",
    "\n",
    "#crate a 4-node graph:\n",
    "graph = nx.Graph()\n",
    "edges = [(0, 1), (0, 2), (1, 2), (2, 3)]\n",
    "graph.add_edges_from(edges)\n",
    "\n",
    "#visualize graph:\n",
    "nx.draw(graph, with_labels = True, node_color = 'lightblue', edge_color = 'gray')\n",
    "plt.title(\"MaxCut Graph\")\n",
    "plt.show()\n",
    "\n",
    "#convert to MaxCut QUBO problem:\n",
    "maxcut = MaxCut(graph)\n",
    "qubo = maxcut.to_quadratic_program()"
   ]
  },
  {
   "cell_type": "code",
   "execution_count": null,
   "metadata": {},
   "outputs": [
    {
     "ename": "ModuleNotFoundError",
     "evalue": "No module named 'qiskit.algorithms'",
     "output_type": "error",
     "traceback": [
      "\u001b[31m---------------------------------------------------------------------------\u001b[39m",
      "\u001b[31mModuleNotFoundError\u001b[39m                       Traceback (most recent call last)",
      "\u001b[36mCell\u001b[39m\u001b[36m \u001b[39m\u001b[32mIn[21]\u001b[39m\u001b[32m, line 2\u001b[39m\n\u001b[32m      1\u001b[39m \u001b[38;5;66;03m#solve using QAOA:\u001b[39;00m\n\u001b[32m----> \u001b[39m\u001b[32m2\u001b[39m \u001b[38;5;28;01mfrom\u001b[39;00m\u001b[38;5;250m \u001b[39m\u001b[34;01mqiskit\u001b[39;00m\u001b[34;01m.\u001b[39;00m\u001b[34;01malgorithms\u001b[39;00m\u001b[38;5;250m \u001b[39m\u001b[38;5;28;01mimport\u001b[39;00m QAOA\n\u001b[32m      3\u001b[39m \u001b[38;5;28;01mfrom\u001b[39;00m\u001b[38;5;250m \u001b[39m\u001b[34;01mqiskit_optimization\u001b[39;00m\u001b[34;01m.\u001b[39;00m\u001b[34;01malgorithms\u001b[39;00m\u001b[38;5;250m \u001b[39m\u001b[38;5;28;01mimport\u001b[39;00m MinimumEigenOptimizer\n\u001b[32m      4\u001b[39m \u001b[38;5;28;01mfrom\u001b[39;00m\u001b[38;5;250m \u001b[39m\u001b[34;01mqiskit_aer\u001b[39;00m\u001b[38;5;250m \u001b[39m\u001b[38;5;28;01mimport\u001b[39;00m Aer\n",
      "\u001b[31mModuleNotFoundError\u001b[39m: No module named 'qiskit.algorithms'"
     ]
    }
   ],
   "source": [
    "#solve using QAOA:\n",
    "from qiskit.algorithms import QAOA\n",
    "from qiskit_optimization.algorithms import MinimumEigenOptimizer\n",
    "from qiskit_aer import Aer\n",
    "from qiskit.utils import algorithm_globals, QuantumInstance\n",
    "from qiskit.algorithms.optimizers import COBYLA\n",
    "\n",
    "#set up quantum simulator:\n",
    "backend = Aer.get_backend('aer_simulator_statevector')\n",
    "quantum_instance = QuantumInstance(backend)\n",
    "\n",
    "#set up QAOA:\n",
    "qaoa = QAOA(optimizer = COBYLA(), reps = 1, quantum_instance = quantum_instance) #higher reps increases accuracy and runtime\n",
    "optimizer = MinimumEigenOptimizer(qaoa)\n",
    "\n",
    "#solve MaxCut problem:\n",
    "result = optimizer.solve(qubo)\n",
    "\n",
    "#output solution:\n",
    "print(\"Best partition (bitstring):\", result.x)\n",
    "print(\"MaxCut value (edges cut):\", result.fval)"
   ]
  },
  {
   "cell_type": "code",
   "execution_count": null,
   "metadata": {},
   "outputs": [],
   "source": [
    "#visualize the cut:\n",
    "colors = ['red' if bit == 0 else 'blue for bit in result.x'] #sliced loop\n",
    "nx.draw(graph, with_labels = True, node_color = colors, edge_color = 'black')\n",
    "plt.title(\"QAOA MaxCut Partition\")\n",
    "plt.show()"
   ]
  },
  {
   "cell_type": "markdown",
   "metadata": {},
   "source": [
    "# Another QAOA Problem"
   ]
  },
  {
   "cell_type": "code",
   "execution_count": null,
   "metadata": {},
   "outputs": [
    {
     "data": {
      "text/plain": [
       "'\\nPromisint Quantum Application Areas: \\n- Simulating Nature\\n- Processing Data with Complex Structure\\n- Optimization (e.g. flight/delivery paths accross the country, MaxCut, QAOA)\\n\\nMaxCut: An optimization problem that mazimizes the # of edges cut by a subdivided graph\\n'"
      ]
     },
     "execution_count": 22,
     "metadata": {},
     "output_type": "execute_result"
    }
   ],
   "source": [
    "\"\"\"\n",
    "Promisint Quantum Application Areas: \n",
    "- Simulating Nature\n",
    "- Processing Data with Complex Structure\n",
    "- Optimization (e.g. flight/delivery paths accross the country, MaxCut, QAOA)\n",
    "\n",
    "MaxCut: An optimization problem that mazimizes the # of edges cut by a subdivided graph\n",
    "\"\"\"\n",
    "\n"
   ]
  },
  {
   "cell_type": "markdown",
   "metadata": {},
   "source": [
    "# 3. Quantum-Classical Hybrid Classifier (QSVM/ Quantum Neural Network)"
   ]
  },
  {
   "cell_type": "code",
   "execution_count": null,
   "metadata": {},
   "outputs": [],
   "source": [
    "# Goal: Build a binary classifier that learns to distinguish between 2 classes using a \n",
    "# variational quantum circuit and classical training\n",
    "\n",
    "\"\"\"\n",
    "- Given a dataset with 2 classes (0 & 1), train a quantum machine learning (ML) model to\n",
    "classify new points correctly\n",
    "- Start with 2D dataset (points in a plane), use parameterized quantum circuit as ML model\n",
    "- Use use QNN to teach the VQC model\n",
    "- hybrid train using classical optimizers\n",
    "\n",
    "\"\"\"\n",
    "\n",
    "import numpy as np\n",
    "from sklearn.datasets import make_classification\n",
    "from sklearn.model_selection import train_test_split\n",
    "from sklearn.preprocessing import MinMaxScaler\n",
    "\n",
    "#create a binary classification dataset (2 features):\n",
    "x, y = make_classification(n_samples = 100, n_features = 2, n_informative = 2,\n",
    "                           n_redundant = 0, n_clusters_per_class = 1, class_sep = 2.0\n",
    "                           random_state = 42)\n",
    "\n",
    "#normalize features to [0, pi]\n",
    "scaler = MinMaxScaler(feature_range = 0, np.pi)\n",
    "x_scaled = scaler.fit_transform(x)\n",
    "\n",
    "#split into train/test\n",
    "x_train, x_test, y_train, y_test = train_test_split(x_scaled, y, test_size = 0.2, random_state = 42)"
   ]
  },
  {
   "cell_type": "code",
   "execution_count": null,
   "metadata": {},
   "outputs": [],
   "source": [
    "#build the quantum model:\n",
    "from qiskit_machine_learning.algorithms import VQC\n",
    "from qiskit_machine_learning.kernels import QuantumKernel\n",
    "from qiskit_machine_learning.circuit.library import RawFeatureVector\n",
    "from qiskit_machine_learning import TwoLocal\n",
    "from qiskit_machine_learning.datasets import ad_hoc_data\n",
    "\n",
    "from qiskit.algorithms.optimizers import COBYLA\n",
    "from qiskit.utils import QuantumInstance\n",
    "from qiskit_aer import Aer\n",
    "\n",
    "#define feature map (how to encode data into a quantum state)\n",
    "feature_map = RawFeatureVector(2)\n",
    "\n",
    "#define variational form (learnable part)\n",
    "ansatz = TwoLocal(2, ['ry', 'rz'], 'cz', reps = 2)\n",
    "\n",
    "#set up simulator\n",
    "backend = Aer.get_backend('aer_simulator_statevector')\n",
    "quantum_instance = QuantumInstance(backend)\n",
    "\n",
    "#define VQC model:\n",
    "vqc = VQC(feature_map = feature_map, ansatz = ansatz, optimizer = COBYLA(), \n",
    "          quantum_instance = quantum_instance)"
   ]
  },
  {
   "cell_type": "code",
   "execution_count": null,
   "metadata": {},
   "outputs": [],
   "source": [
    "#train the model:\n",
    "from qiskit_machine_learning.algorithms.classifiers import NeuralNetworkClassifier\n",
    "\n",
    "#use vqc as a classifier:\n",
    "from qiskit_machine_learning.neural_networks import EstimatorQNN\n",
    "from qiskit.primitives import Estimator\n",
    "\n",
    "#build a QNN (quantum neural network):\n",
    "qnn = EstimatorQNN(circuit = ansatz, input_params = feature_map.parameters, #as opposed to logistic regression\n",
    "                   weight_params = ansatz.parameters, estimator = Estimator())\n",
    "\n",
    "#wrap it as a scikit-learn classifier:\n",
    "classifier = NeuralNetworkClassifier(qnn, optimizer = COBYLA(maxiter = 100))\n",
    "\n",
    "#train:\n",
    "classifier.fit(x_train, y_train) #fits the data to the regression line\n",
    "\n",
    "#test accuracy:\n",
    "accuracy = classifier.score(x_test, y_test)\n",
    "print(f\"Test Accuracy: {accuracy: .2f}\")"
   ]
  },
  {
   "cell_type": "code",
   "execution_count": null,
   "metadata": {},
   "outputs": [],
   "source": [
    "#visualization:\n",
    "import matplotlib.pyplot as plt\n",
    "\n",
    "def plot_2d(x, y, title = \"Data\"):\n",
    "    plt.figure(figsize = (5, 5))\n",
    "    plt.scatter(x[:, 0], x[:, 1], c = y, cmap = 'coolwarm', s = 40)\n",
    "    plt.xlabel(\"Feature 1\")\n",
    "    plt.ylabel(\"Feature 2\")\n",
    "    plt.title(title)\n",
    "    plt.grid(True)\n",
    "    plt.show()\n",
    "\n",
    "plot_2d(x_test, classifier.predict(x_test), title = \"Predicted Classes\")"
   ]
  },
  {
   "cell_type": "markdown",
   "metadata": {},
   "source": [
    "# 4. Variational Quantum Eigensolver (VQE) to Simulate a Molecule"
   ]
  },
  {
   "cell_type": "code",
   "execution_count": null,
   "metadata": {},
   "outputs": [
    {
     "ename": "ImportError",
     "evalue": "cannot import name 'BaseSampler' from 'qiskit.primitives' (/Users/onkar/Desktop/Qiskit-Tutorial-Projects/.venv/lib/python3.12/site-packages/qiskit/primitives/__init__.py)",
     "output_type": "error",
     "traceback": [
      "\u001b[31m---------------------------------------------------------------------------\u001b[39m",
      "\u001b[31mImportError\u001b[39m                               Traceback (most recent call last)",
      "\u001b[36mCell\u001b[39m\u001b[36m \u001b[39m\u001b[32mIn[23]\u001b[39m\u001b[32m, line 12\u001b[39m\n\u001b[32m      4\u001b[39m \u001b[33;03m\"\"\"\u001b[39;00m\n\u001b[32m      5\u001b[39m \u001b[33;03m- Use Qiskit Nature --> for quantum chemistry\u001b[39;00m\n\u001b[32m      6\u001b[39m \u001b[33;03m- Use VQE + variational ansatz + classical optimizer\u001b[39;00m\n\u001b[32m      7\u001b[39m \u001b[33;03m- Run hybrid quantum-classical workflows\u001b[39;00m\n\u001b[32m      8\u001b[39m \u001b[33;03m- Compare results to known values\u001b[39;00m\n\u001b[32m      9\u001b[39m \u001b[33;03m\"\"\"\u001b[39;00m\n\u001b[32m     11\u001b[39m \u001b[38;5;66;03m#define the molecule:\u001b[39;00m\n\u001b[32m---> \u001b[39m\u001b[32m12\u001b[39m \u001b[38;5;28;01mfrom\u001b[39;00m\u001b[38;5;250m \u001b[39m\u001b[34;01mqiskit_nature\u001b[39;00m\u001b[34;01m.\u001b[39;00m\u001b[34;01msecond_q\u001b[39;00m\u001b[34;01m.\u001b[39;00m\u001b[34;01mdrivers\u001b[39;00m\u001b[38;5;250m \u001b[39m\u001b[38;5;28;01mimport\u001b[39;00m PySCFDriver\n\u001b[32m     13\u001b[39m \u001b[38;5;28;01mfrom\u001b[39;00m\u001b[38;5;250m \u001b[39m\u001b[34;01mqiskit_nature\u001b[39;00m\u001b[34;01m.\u001b[39;00m\u001b[34;01munits\u001b[39;00m\u001b[38;5;250m \u001b[39m\u001b[38;5;28;01mimport\u001b[39;00m DistanceUnit\n\u001b[32m     15\u001b[39m \u001b[38;5;66;03m#create a driver to define modecule (H₂ with 0.735 Å bond length):\u001b[39;00m\n",
      "\u001b[36mFile \u001b[39m\u001b[32m~/Desktop/Qiskit-Tutorial-Projects/.venv/lib/python3.12/site-packages/qiskit_nature/__init__.py:53\u001b[39m\n\u001b[32m      1\u001b[39m \u001b[38;5;66;03m# This code is part of a Qiskit project.\u001b[39;00m\n\u001b[32m      2\u001b[39m \u001b[38;5;66;03m#\u001b[39;00m\n\u001b[32m      3\u001b[39m \u001b[38;5;66;03m# (C) Copyright IBM 2018, 2023.\u001b[39;00m\n\u001b[32m   (...)\u001b[39m\u001b[32m     10\u001b[39m \u001b[38;5;66;03m# copyright notice, and modified files need to carry a notice indicating\u001b[39;00m\n\u001b[32m     11\u001b[39m \u001b[38;5;66;03m# that they have been altered from the originals.\u001b[39;00m\n\u001b[32m     12\u001b[39m \u001b[33mr\u001b[39m\u001b[33;03m\"\"\"\u001b[39;00m\n\u001b[32m     13\u001b[39m \u001b[33;03m=============================================\u001b[39;00m\n\u001b[32m     14\u001b[39m \u001b[33;03mQiskit Nature module (:mod:`qiskit_nature`)\u001b[39;00m\n\u001b[32m   (...)\u001b[39m\u001b[32m     50\u001b[39m \n\u001b[32m     51\u001b[39m \u001b[33;03m\"\"\"\u001b[39;00m\n\u001b[32m---> \u001b[39m\u001b[32m53\u001b[39m \u001b[38;5;28;01mfrom\u001b[39;00m\u001b[38;5;250m \u001b[39m\u001b[34;01mqiskit_algorithms\u001b[39;00m\u001b[34;01m.\u001b[39;00m\u001b[34;01mlist_or_dict\u001b[39;00m\u001b[38;5;250m \u001b[39m\u001b[38;5;28;01mimport\u001b[39;00m ListOrDict \u001b[38;5;28;01mas\u001b[39;00m ListOrDictType\n\u001b[32m     55\u001b[39m \u001b[38;5;28;01mfrom\u001b[39;00m\u001b[38;5;250m \u001b[39m\u001b[34;01m.\u001b[39;00m\u001b[34;01mexceptions\u001b[39;00m\u001b[38;5;250m \u001b[39m\u001b[38;5;28;01mimport\u001b[39;00m QiskitNatureError, UnsupportMethodError\n\u001b[32m     56\u001b[39m \u001b[38;5;28;01mfrom\u001b[39;00m\u001b[38;5;250m \u001b[39m\u001b[34;01m.\u001b[39;00m\u001b[34;01mlogging\u001b[39;00m\u001b[38;5;250m \u001b[39m\u001b[38;5;28;01mimport\u001b[39;00m logging\n",
      "\u001b[36mFile \u001b[39m\u001b[32m~/Desktop/Qiskit-Tutorial-Projects/.venv/lib/python3.12/site-packages/qiskit_algorithms/__init__.py:254\u001b[39m\n\u001b[32m    252\u001b[39m \u001b[38;5;28;01mfrom\u001b[39;00m\u001b[38;5;250m \u001b[39m\u001b[34;01m.\u001b[39;00m\u001b[34;01malgorithm_job\u001b[39;00m\u001b[38;5;250m \u001b[39m\u001b[38;5;28;01mimport\u001b[39;00m AlgorithmJob\n\u001b[32m    253\u001b[39m \u001b[38;5;28;01mfrom\u001b[39;00m\u001b[38;5;250m \u001b[39m\u001b[34;01m.\u001b[39;00m\u001b[34;01malgorithm_result\u001b[39;00m\u001b[38;5;250m \u001b[39m\u001b[38;5;28;01mimport\u001b[39;00m AlgorithmResult\n\u001b[32m--> \u001b[39m\u001b[32m254\u001b[39m \u001b[38;5;28;01mfrom\u001b[39;00m\u001b[38;5;250m \u001b[39m\u001b[34;01m.\u001b[39;00m\u001b[34;01mvariational_algorithm\u001b[39;00m\u001b[38;5;250m \u001b[39m\u001b[38;5;28;01mimport\u001b[39;00m VariationalAlgorithm, VariationalResult\n\u001b[32m    255\u001b[39m \u001b[38;5;28;01mfrom\u001b[39;00m\u001b[38;5;250m \u001b[39m\u001b[34;01m.\u001b[39;00m\u001b[34;01mamplitude_amplifiers\u001b[39;00m\u001b[38;5;250m \u001b[39m\u001b[38;5;28;01mimport\u001b[39;00m Grover, GroverResult, AmplificationProblem, AmplitudeAmplifier\n\u001b[32m    256\u001b[39m \u001b[38;5;28;01mfrom\u001b[39;00m\u001b[38;5;250m \u001b[39m\u001b[34;01m.\u001b[39;00m\u001b[34;01mamplitude_estimators\u001b[39;00m\u001b[38;5;250m \u001b[39m\u001b[38;5;28;01mimport\u001b[39;00m (\n\u001b[32m    257\u001b[39m     AmplitudeEstimator,\n\u001b[32m    258\u001b[39m     AmplitudeEstimatorResult,\n\u001b[32m   (...)\u001b[39m\u001b[32m    267\u001b[39m     EstimationProblem,\n\u001b[32m    268\u001b[39m )\n",
      "\u001b[36mFile \u001b[39m\u001b[32m~/Desktop/Qiskit-Tutorial-Projects/.venv/lib/python3.12/site-packages/qiskit_algorithms/variational_algorithm.py:36\u001b[39m\n\u001b[32m     33\u001b[39m \u001b[38;5;28;01mfrom\u001b[39;00m\u001b[38;5;250m \u001b[39m\u001b[34;01mqiskit\u001b[39;00m\u001b[34;01m.\u001b[39;00m\u001b[34;01mcircuit\u001b[39;00m\u001b[38;5;250m \u001b[39m\u001b[38;5;28;01mimport\u001b[39;00m QuantumCircuit\n\u001b[32m     35\u001b[39m \u001b[38;5;28;01mfrom\u001b[39;00m\u001b[38;5;250m \u001b[39m\u001b[34;01m.\u001b[39;00m\u001b[34;01malgorithm_result\u001b[39;00m\u001b[38;5;250m \u001b[39m\u001b[38;5;28;01mimport\u001b[39;00m AlgorithmResult\n\u001b[32m---> \u001b[39m\u001b[32m36\u001b[39m \u001b[38;5;28;01mfrom\u001b[39;00m\u001b[38;5;250m \u001b[39m\u001b[34;01m.\u001b[39;00m\u001b[34;01moptimizers\u001b[39;00m\u001b[38;5;250m \u001b[39m\u001b[38;5;28;01mimport\u001b[39;00m OptimizerResult\n\u001b[32m     39\u001b[39m \u001b[38;5;28;01mclass\u001b[39;00m\u001b[38;5;250m \u001b[39m\u001b[34;01mVariationalAlgorithm\u001b[39;00m(ABC):\n\u001b[32m     40\u001b[39m \u001b[38;5;250m    \u001b[39m\u001b[33;03m\"\"\"The Variational Algorithm Base Class.\"\"\"\u001b[39;00m\n",
      "\u001b[36mFile \u001b[39m\u001b[32m~/Desktop/Qiskit-Tutorial-Projects/.venv/lib/python3.12/site-packages/qiskit_algorithms/optimizers/__init__.py:139\u001b[39m\n\u001b[32m    137\u001b[39m \u001b[38;5;28;01mfrom\u001b[39;00m\u001b[38;5;250m \u001b[39m\u001b[34;01m.\u001b[39;00m\u001b[34;01mp_bfgs\u001b[39;00m\u001b[38;5;250m \u001b[39m\u001b[38;5;28;01mimport\u001b[39;00m P_BFGS\n\u001b[32m    138\u001b[39m \u001b[38;5;28;01mfrom\u001b[39;00m\u001b[38;5;250m \u001b[39m\u001b[34;01m.\u001b[39;00m\u001b[34;01mpowell\u001b[39;00m\u001b[38;5;250m \u001b[39m\u001b[38;5;28;01mimport\u001b[39;00m POWELL\n\u001b[32m--> \u001b[39m\u001b[32m139\u001b[39m \u001b[38;5;28;01mfrom\u001b[39;00m\u001b[38;5;250m \u001b[39m\u001b[34;01m.\u001b[39;00m\u001b[34;01mqnspsa\u001b[39;00m\u001b[38;5;250m \u001b[39m\u001b[38;5;28;01mimport\u001b[39;00m QNSPSA\n\u001b[32m    140\u001b[39m \u001b[38;5;28;01mfrom\u001b[39;00m\u001b[38;5;250m \u001b[39m\u001b[34;01m.\u001b[39;00m\u001b[34;01mscipy_optimizer\u001b[39;00m\u001b[38;5;250m \u001b[39m\u001b[38;5;28;01mimport\u001b[39;00m SciPyOptimizer\n\u001b[32m    141\u001b[39m \u001b[38;5;28;01mfrom\u001b[39;00m\u001b[38;5;250m \u001b[39m\u001b[34;01m.\u001b[39;00m\u001b[34;01mslsqp\u001b[39;00m\u001b[38;5;250m \u001b[39m\u001b[38;5;28;01mimport\u001b[39;00m SLSQP\n",
      "\u001b[36mFile \u001b[39m\u001b[32m~/Desktop/Qiskit-Tutorial-Projects/.venv/lib/python3.12/site-packages/qiskit_algorithms/optimizers/qnspsa.py:23\u001b[39m\n\u001b[32m     20\u001b[39m \u001b[38;5;28;01mimport\u001b[39;00m\u001b[38;5;250m \u001b[39m\u001b[34;01mnumpy\u001b[39;00m\u001b[38;5;250m \u001b[39m\u001b[38;5;28;01mas\u001b[39;00m\u001b[38;5;250m \u001b[39m\u001b[34;01mnp\u001b[39;00m\n\u001b[32m     21\u001b[39m \u001b[38;5;28;01mfrom\u001b[39;00m\u001b[38;5;250m \u001b[39m\u001b[34;01mqiskit\u001b[39;00m\u001b[34;01m.\u001b[39;00m\u001b[34;01mcircuit\u001b[39;00m\u001b[38;5;250m \u001b[39m\u001b[38;5;28;01mimport\u001b[39;00m QuantumCircuit\n\u001b[32m---> \u001b[39m\u001b[32m23\u001b[39m \u001b[38;5;28;01mfrom\u001b[39;00m\u001b[38;5;250m \u001b[39m\u001b[34;01mqiskit\u001b[39;00m\u001b[34;01m.\u001b[39;00m\u001b[34;01mprimitives\u001b[39;00m\u001b[38;5;250m \u001b[39m\u001b[38;5;28;01mimport\u001b[39;00m BaseSampler\n\u001b[32m     24\u001b[39m \u001b[38;5;28;01mfrom\u001b[39;00m\u001b[38;5;250m \u001b[39m\u001b[34;01mqiskit_algorithms\u001b[39;00m\u001b[34;01m.\u001b[39;00m\u001b[34;01mstate_fidelities\u001b[39;00m\u001b[38;5;250m \u001b[39m\u001b[38;5;28;01mimport\u001b[39;00m ComputeUncompute\n\u001b[32m     26\u001b[39m \u001b[38;5;28;01mfrom\u001b[39;00m\u001b[38;5;250m \u001b[39m\u001b[34;01m.\u001b[39;00m\u001b[34;01mspsa\u001b[39;00m\u001b[38;5;250m \u001b[39m\u001b[38;5;28;01mimport\u001b[39;00m SPSA, CALLBACK, TERMINATIONCHECKER, _batch_evaluate\n",
      "\u001b[31mImportError\u001b[39m: cannot import name 'BaseSampler' from 'qiskit.primitives' (/Users/onkar/Desktop/Qiskit-Tutorial-Projects/.venv/lib/python3.12/site-packages/qiskit/primitives/__init__.py)"
     ]
    }
   ],
   "source": [
    "# Goal: Use VQE to calculate the ground-state energy of a H₂ molecule with\n",
    "# quantum chemistry using quantum circuits\n",
    "\n",
    "\"\"\"\n",
    "- Use Qiskit Nature --> for quantum chemistry\n",
    "- Use VQE + variational ansatz + classical optimizer\n",
    "- Run hybrid quantum-classical workflows\n",
    "- Compare results to known values\n",
    "\"\"\"\n",
    "\n",
    "#define the molecule:\n",
    "from qiskit_nature.second_q.drivers import PySCFDriver\n",
    "from qiskit_nature.units import DistanceUnit\n",
    "\n",
    "#create a driver to define modecule (H₂ with 0.735 Å bond length):\n",
    "driver = PySCFDriver(atom = 'H 0 0 0; H 0 0 0.735',\n",
    "                     basis = 'sto3g', unit = DistanceUnit.ANGSTROM)\n",
    "\n",
    "problem = driver.run()"
   ]
  },
  {
   "cell_type": "code",
   "execution_count": null,
   "metadata": {},
   "outputs": [],
   "source": [
    "#map to qubits:\n",
    "from qiskit_nature.second_q.mappers import JordanWignerMapper\n",
    "from qiskit_nature.second_q.circuit.library import HartreeFock\n",
    "\n",
    "#map to qubits using Jordan-Wigner:\n",
    "mapper = JordanWignerMapper()\n",
    "qubit_op = mapper.map(problem.hamiltonian)"
   ]
  },
  {
   "cell_type": "code",
   "execution_count": null,
   "metadata": {},
   "outputs": [],
   "source": [
    "#set up VQE:\n",
    "from qiskit.algorithms.minimum_eigensolvers import VQE\n",
    "from qiskit.algorithms.optimizers import SLSQP\n",
    "from qiskit.circuit.library import TwoLocal\n",
    "from qiskit.primitives import Estimator\n",
    "from qiskit import Aer\n",
    "\n",
    "#choose ansatz (trial wavefunction):\n",
    "ansatz = TwoLocal(rotation_blocks = 'ry', entanglement_blocks = 'cz', entanglement = 'full', reps = 1)\n",
    "\n",
    "#use VQE with classical optimizer:\n",
    "vqe_solver = VQE(ansatz = ansatz, optimizer = SLSQP(), estimator = Estimator())\n",
    "\n",
    "#solve:\n",
    "result = vqe_solver.compute_minimum_eigenvalue(qubit_op)\n",
    "\n",
    "print(f\"Estimated ground state energy: {result.eigenvalue.real: .6f} Hartree\")"
   ]
  },
  {
   "cell_type": "code",
   "execution_count": null,
   "metadata": {},
   "outputs": [],
   "source": [
    "#compare to exact energy:\n",
    "from qiskit.algorithms.minimum_eigensolvers import NumPyMinimumEigensolver\n",
    "\n",
    "#use classical exact solver for reference:\n",
    "exact_solver = NumPyMinimumEigensolver()\n",
    "exact_result = exact_solver.compute_minimum_eigenvalue(qubit_op)\n",
    "\n",
    "print(f\"Exact ground state energyL {exact_result.eigenvalue.real: .6f} Hartree\")"
   ]
  },
  {
   "cell_type": "code",
   "execution_count": 23,
   "metadata": {},
   "outputs": [
    {
     "data": {
      "image/png": "[encoded data removed]",
      "text/plain": [
       "<Figure size 2210.55x1204 with 1 Axes>"
      ]
     },
     "execution_count": 23,
     "metadata": {},
     "output_type": "execute_result"
    }
   ],
   "source": [
    "from qiskit import QuantumCircuit\n",
    "from qiskit.circuit import Parameter\n",
    "from itertools import combinations\n",
    "import numpy as np\n",
    "\n",
    "def generate_singles(occ, virt):\n",
    "    return [(i, a) for i in occ for a in virt]\n",
    "\n",
    "def generate_doubles(occ, virt):\n",
    "    return [(i, j, a, b)\n",
    "            for i, j in combinations(occ, 2)\n",
    "            for a, b in combinations(virt, 2)]\n",
    "\n",
    "def jw_single_excitation(i, a, n_qubits):\n",
    "    \"\"\"\n",
    "    Return Pauli strings (Z..Z X..X Y..Y etc.) for a†_a a_i - h.c.\n",
    "    \"\"\"\n",
    "    ops = []\n",
    "\n",
    "    z_string = ['I'] * n_qubits\n",
    "    for k in range(min(i, a)+1, max(i, a)):\n",
    "        z_string[k] = 'Z'\n",
    "\n",
    "    if i < a:\n",
    "        label1 = z_string.copy()\n",
    "        label1[i] = 'Y'\n",
    "        label1[a] = 'X'\n",
    "        ops.append((''.join(reversed(label1)), 0.5j))\n",
    "\n",
    "        label2 = z_string.copy()\n",
    "        label2[i] = 'X'\n",
    "        label2[a] = 'Y'\n",
    "        ops.append((''.join(reversed(label2)), -0.5j))\n",
    "\n",
    "    else:\n",
    "        label1 = z_string.copy()\n",
    "        label1[a] = 'Y'\n",
    "        label1[i] = 'X'\n",
    "        ops.append((''.join(reversed(label1)), -0.5j))\n",
    "\n",
    "        label2 = z_string.copy()\n",
    "        label2[a] = 'X'\n",
    "        label2[i] = 'Y'\n",
    "        ops.append((''.join(reversed(label2)), 0.5j))\n",
    "\n",
    "    return ops\n",
    "\n",
    "def apply_pauli_rotation(qc, label, theta):\n",
    "    \"\"\"\n",
    "    Apply exp(-i * theta * P) to the circuit, where P is a Pauli string.\n",
    "    \"\"\"\n",
    "    n = len(label)\n",
    "    # Step 1: basis change\n",
    "    for i in range(n):\n",
    "        if label[i] == 'X':\n",
    "            qc.h(i)\n",
    "        elif label[i] == 'Y':\n",
    "            qc.sdg(i)\n",
    "            qc.h(i)\n",
    "        # 'Z' and 'I' are fine\n",
    "\n",
    "    # Step 2: CNOT ladder\n",
    "    qubits = [i for i, p in enumerate(label) if p != 'I']\n",
    "    for i in range(len(qubits)-1):\n",
    "        qc.cx(qubits[i], qubits[i+1])\n",
    "\n",
    "    # Step 3: Rz rotation\n",
    "    qc.rz(2 * theta, qubits[-1])\n",
    "\n",
    "    # Step 4: Undo CNOTs\n",
    "    for i in reversed(range(len(qubits)-1)):\n",
    "        qc.cx(qubits[i], qubits[i+1])\n",
    "\n",
    "    # Step 5: Undo basis change\n",
    "    for i in range(n):\n",
    "        if label[i] == 'X':\n",
    "            qc.h(i)\n",
    "        elif label[i] == 'Y':\n",
    "            qc.h(i)\n",
    "            qc.s(i)\n",
    "\n",
    "def build_manual_uccsd(n_qubits, occ, virt):\n",
    "    qc = QuantumCircuit(n_qubits)\n",
    "\n",
    "    # HF reference state\n",
    "    for i in occ:\n",
    "        qc.x(i)\n",
    "\n",
    "    singles = generate_singles(occ, virt)\n",
    "    param_index = 0\n",
    "\n",
    "    for (i, a) in singles:\n",
    "        pauli_terms = jw_single_excitation(i, a, n_qubits)\n",
    "        theta = Parameter(f\"θ_{param_index}\")\n",
    "        for label, coeff in pauli_terms:\n",
    "            apply_pauli_rotation(qc, label, coeff.real * theta)\n",
    "        param_index += 1\n",
    "\n",
    "    # TODO: Add double excitations too (optional step)\n",
    "\n",
    "    return qc\n",
    "\n",
    "n_qubits = 4\n",
    "occupied = [0, 1]\n",
    "virtual = [2, 3]\n",
    "\n",
    "uccsd = build_manual_uccsd(n_qubits, occupied, virtual)\n",
    "uccsd.draw('mpl')"
   ]
  },
  {
   "cell_type": "code",
   "execution_count": 19,
   "metadata": {},
   "outputs": [
    {
     "data": {
      "text/latex": [
       "$$\\frac{\\sqrt{2}}{2} |0\\rangle+(\\frac{1}{2} + \\frac{i}{2}) |1\\rangle$$"
      ],
      "text/plain": [
       "<IPython.core.display.Latex object>"
      ]
     },
     "execution_count": 19,
     "metadata": {},
     "output_type": "execute_result"
    }
   ],
   "source": [
    "from qiskit import QuantumCircuit\n",
    "from qiskit.quantum_info import Statevector\n",
    "\n",
    "qc = QuantumCircuit(1)\n",
    "\n",
    "qc.h(0)\n",
    "# qc.s(0)\n",
    "# qc.h(0)\n",
    "qc.t(0)\n",
    "statevector = Statevector(qc)\n",
    "statevector.draw('latex')\n",
    "\n",
    "# qc.s(0)\n",
    "# qc.h(0)\n",
    "# qc.t(0)\n",
    "\n",
    "# qc.draw('mpl')"
   ]
  }
 ],
 "metadata": {
  "kernelspec": {
   "display_name": ".venv",
   "language": "python",
   "name": "python3"
  },
  "language_info": {
   "codemirror_mode": {
    "name": "ipython",
    "version": 3
   },
   "file_extension": ".py",
   "mimetype": "text/x-python",
   "name": "python",
   "nbconvert_exporter": "python",
   "pygments_lexer": "ipython3",
   "version": "3.12.0"
  }
 },
 "nbformat": 4,
 "nbformat_minor": 2
}
