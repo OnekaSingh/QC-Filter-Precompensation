{
 "cells": [
  {
   "cell_type": "markdown",
   "metadata": {},
   "source": [
    "Results"
   ]
  },
  {
   "cell_type": "code",
   "execution_count": null,
   "metadata": {},
   "outputs": [],
   "source": [
    "plt.plot(time_array, waveform_1, label = 'Waveform 1')\n",
    "plt.plot(time_array, waveform_2, label = 'Waveform 2')\n",
    "plt.plot(time_array, waveform_3, label = 'Waveform 3')\n",
    "plt.title('Swap Operation')\n",
    "plt.xlabel('Time in μs')\n",
    "plt.ylabel('Votlage')\n",
    "plt.legend()\n",
    "plt.show()"
   ]
  }
 ],
 "metadata": {
  "kernelspec": {
   "display_name": ".venv",
   "language": "python",
   "name": "python3"
  },
  "language_info": {
   "codemirror_mode": {
    "name": "ipython",
    "version": 3
   },
   "file_extension": ".py",
   "mimetype": "text/x-python",
   "name": "python",
   "nbconvert_exporter": "python",
   "pygments_lexer": "ipython3",
   "version": "3.12.0"
  }
 },
 "nbformat": 4,
 "nbformat_minor": 2
}
